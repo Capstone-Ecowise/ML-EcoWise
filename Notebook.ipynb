{
 "cells": [
  {
   "cell_type": "code",
   "execution_count": 1,
   "metadata": {},
   "outputs": [],
   "source": [
    "import tensorflow as tf\n",
    "import numpy as np\n",
    "import matplotlib.pyplot as plt\n",
    "from tensorflow.keras import Sequential\n",
    "from tensorflow.keras.layers import Input, Dense, Flatten, Conv2D, MaxPooling2D, Dropout, Rescaling, BatchNormalization, GlobalAveragePooling2D\n",
    "from tensorflow.keras.applications import MobileNetV2, EfficientNetB0, EfficientNetB1, EfficientNetV2B2, EfficientNetV2B3, EfficientNetV2S, EfficientNetV2M\n",
    "from tensorflow.keras.regularizers import l2\n",
    "from tensorflow.keras.callbacks import EarlyStopping, ReduceLROnPlateau, ModelCheckpoint"
   ]
  },
  {
   "cell_type": "code",
   "execution_count": 2,
   "metadata": {},
   "outputs": [
    {
     "name": "stdout",
     "output_type": "stream",
     "text": [
      "Found 19852 files belonging to 10 classes.\n",
      "Using 11912 files for training.\n",
      "Found 19852 files belonging to 10 classes.\n",
      "Using 7940 files for validation.\n",
      "Train batches: 596\n",
      "Validation batches: 198\n",
      "Test batches: 199\n"
     ]
    }
   ],
   "source": [
    "base = './Datasets'\n",
    "image_height, image_width = 224, 224\n",
    "\n",
    "train_dataset = tf.keras.preprocessing.image_dataset_from_directory(base, validation_split=0.4, seed=128, subset='training', image_size=(image_height, image_width), batch_size=20, shuffle=True)\n",
    "\n",
    "val_test_dataset = tf.keras.preprocessing.image_dataset_from_directory(base, validation_split=0.4, seed=128, subset='validation', image_size=(image_height, image_width), batch_size=20, shuffle=True)\n",
    "\n",
    "val_size = int(0.5 * len(val_test_dataset))\n",
    "\n",
    "test_dataset = val_test_dataset.skip(val_size)\n",
    "val_dataset = val_test_dataset.take(val_size)\n",
    "\n",
    "print(f\"Train batches: {len(train_dataset)}\")\n",
    "print(f\"Validation batches: {len(val_dataset)}\")\n",
    "print(f\"Test batches: {len(test_dataset)}\")"
   ]
  },
  {
   "cell_type": "code",
   "execution_count": 3,
   "metadata": {},
   "outputs": [
    {
     "name": "stdout",
     "output_type": "stream",
     "text": [
      "['battery', 'biological', 'cardboard', 'clothes', 'glass', 'metal', 'paper', 'plastic', 'shoes', 'trash']\n"
     ]
    }
   ],
   "source": [
    "print(train_dataset.class_names)"
   ]
  },
  {
   "cell_type": "code",
   "execution_count": 4,
   "metadata": {},
   "outputs": [],
   "source": [
    "'''\n",
    "augmentation = Sequential([\n",
    "    tf.keras.layers.RandomFlip('horizontal_and_vertical'),\n",
    "    tf.keras.layers.RandomRotation(0.2, fill_mode='nearest'),\n",
    "    tf.keras.layers.RandomTranslation(0.2, 0.2, fill_mode='nearest'),\n",
    "    tf.keras.layers.RandomZoom(0.3, fill_mode='nearest'),\n",
    "    tf.keras.layers.RandomContrast(0.3),\n",
    "    tf.keras.layers.RandomBrightness(factor=0.2),\n",
    "])\n",
    "'''\n",
    "\n",
    "augmentation = Sequential([\n",
    "    tf.keras.layers.RandomFlip('horizontal_and_vertical'),\n",
    "    tf.keras.layers.RandomRotation(0.2, fill_mode='nearest'),\n",
    "    tf.keras.layers.RandomZoom(0.2, fill_mode='nearest'),\n",
    "    tf.keras.layers.RandomBrightness(factor=0.2),\n",
    "    tf.keras.layers.RandomTranslation(0.2, 0.2, fill_mode='nearest')\n",
    "])"
   ]
  },
  {
   "cell_type": "code",
   "execution_count": 5,
   "metadata": {},
   "outputs": [],
   "source": [
    "train_dataset = train_dataset.map(lambda x, y: (augmentation(x), y)).shuffle(1024).cache().prefetch(tf.data.AUTOTUNE)\n",
    "val_dataset = val_dataset.cache().prefetch(tf.data.AUTOTUNE)\n",
    "test_dataset = test_dataset.cache().prefetch(tf.data.AUTOTUNE)"
   ]
  },
  {
   "cell_type": "code",
   "execution_count": 6,
   "metadata": {},
   "outputs": [
    {
     "name": "stdout",
     "output_type": "stream",
     "text": [
      "(20, 224, 224, 3)\n"
     ]
    }
   ],
   "source": [
    "for images, labels in train_dataset.take(1):\n",
    "  print(images.shape)"
   ]
  },
  {
   "cell_type": "code",
   "execution_count": 7,
   "metadata": {},
   "outputs": [],
   "source": [
    "base = EfficientNetV2B2(input_shape=(image_height, image_width, 3), include_top=False, weights='imagenet')\n",
    "base.trainable = False"
   ]
  },
  {
   "cell_type": "code",
   "execution_count": 8,
   "metadata": {},
   "outputs": [
    {
     "data": {
      "text/html": [
       "<pre style=\"white-space:pre;overflow-x:auto;line-height:normal;font-family:Menlo,'DejaVu Sans Mono',consolas,'Courier New',monospace\"><span style=\"font-weight: bold\">Model: \"sequential_1\"</span>\n",
       "</pre>\n"
      ],
      "text/plain": [
       "\u001b[1mModel: \"sequential_1\"\u001b[0m\n"
      ]
     },
     "metadata": {},
     "output_type": "display_data"
    },
    {
     "data": {
      "text/html": [
       "<pre style=\"white-space:pre;overflow-x:auto;line-height:normal;font-family:Menlo,'DejaVu Sans Mono',consolas,'Courier New',monospace\">┏━━━━━━━━━━━━━━━━━━━━━━━━━━━━━━━━━┳━━━━━━━━━━━━━━━━━━━━━━━━┳━━━━━━━━━━━━━━━┓\n",
       "┃<span style=\"font-weight: bold\"> Layer (type)                    </span>┃<span style=\"font-weight: bold\"> Output Shape           </span>┃<span style=\"font-weight: bold\">       Param # </span>┃\n",
       "┡━━━━━━━━━━━━━━━━━━━━━━━━━━━━━━━━━╇━━━━━━━━━━━━━━━━━━━━━━━━╇━━━━━━━━━━━━━━━┩\n",
       "│ efficientnetv2-b2 (<span style=\"color: #0087ff; text-decoration-color: #0087ff\">Functional</span>)  │ (<span style=\"color: #00d7ff; text-decoration-color: #00d7ff\">None</span>, <span style=\"color: #00af00; text-decoration-color: #00af00\">7</span>, <span style=\"color: #00af00; text-decoration-color: #00af00\">7</span>, <span style=\"color: #00af00; text-decoration-color: #00af00\">1408</span>)     │     <span style=\"color: #00af00; text-decoration-color: #00af00\">8,769,374</span> │\n",
       "├─────────────────────────────────┼────────────────────────┼───────────────┤\n",
       "│ global_average_pooling2d        │ (<span style=\"color: #00d7ff; text-decoration-color: #00d7ff\">None</span>, <span style=\"color: #00af00; text-decoration-color: #00af00\">1408</span>)           │             <span style=\"color: #00af00; text-decoration-color: #00af00\">0</span> │\n",
       "│ (<span style=\"color: #0087ff; text-decoration-color: #0087ff\">GlobalAveragePooling2D</span>)        │                        │               │\n",
       "├─────────────────────────────────┼────────────────────────┼───────────────┤\n",
       "│ batch_normalization             │ (<span style=\"color: #00d7ff; text-decoration-color: #00d7ff\">None</span>, <span style=\"color: #00af00; text-decoration-color: #00af00\">1408</span>)           │         <span style=\"color: #00af00; text-decoration-color: #00af00\">5,632</span> │\n",
       "│ (<span style=\"color: #0087ff; text-decoration-color: #0087ff\">BatchNormalization</span>)            │                        │               │\n",
       "├─────────────────────────────────┼────────────────────────┼───────────────┤\n",
       "│ dense (<span style=\"color: #0087ff; text-decoration-color: #0087ff\">Dense</span>)                   │ (<span style=\"color: #00d7ff; text-decoration-color: #00d7ff\">None</span>, <span style=\"color: #00af00; text-decoration-color: #00af00\">1024</span>)           │     <span style=\"color: #00af00; text-decoration-color: #00af00\">1,442,816</span> │\n",
       "├─────────────────────────────────┼────────────────────────┼───────────────┤\n",
       "│ dropout (<span style=\"color: #0087ff; text-decoration-color: #0087ff\">Dropout</span>)               │ (<span style=\"color: #00d7ff; text-decoration-color: #00d7ff\">None</span>, <span style=\"color: #00af00; text-decoration-color: #00af00\">1024</span>)           │             <span style=\"color: #00af00; text-decoration-color: #00af00\">0</span> │\n",
       "├─────────────────────────────────┼────────────────────────┼───────────────┤\n",
       "│ batch_normalization_1           │ (<span style=\"color: #00d7ff; text-decoration-color: #00d7ff\">None</span>, <span style=\"color: #00af00; text-decoration-color: #00af00\">1024</span>)           │         <span style=\"color: #00af00; text-decoration-color: #00af00\">4,096</span> │\n",
       "│ (<span style=\"color: #0087ff; text-decoration-color: #0087ff\">BatchNormalization</span>)            │                        │               │\n",
       "├─────────────────────────────────┼────────────────────────┼───────────────┤\n",
       "│ dense_1 (<span style=\"color: #0087ff; text-decoration-color: #0087ff\">Dense</span>)                 │ (<span style=\"color: #00d7ff; text-decoration-color: #00d7ff\">None</span>, <span style=\"color: #00af00; text-decoration-color: #00af00\">10</span>)             │        <span style=\"color: #00af00; text-decoration-color: #00af00\">10,250</span> │\n",
       "└─────────────────────────────────┴────────────────────────┴───────────────┘\n",
       "</pre>\n"
      ],
      "text/plain": [
       "┏━━━━━━━━━━━━━━━━━━━━━━━━━━━━━━━━━┳━━━━━━━━━━━━━━━━━━━━━━━━┳━━━━━━━━━━━━━━━┓\n",
       "┃\u001b[1m \u001b[0m\u001b[1mLayer (type)                   \u001b[0m\u001b[1m \u001b[0m┃\u001b[1m \u001b[0m\u001b[1mOutput Shape          \u001b[0m\u001b[1m \u001b[0m┃\u001b[1m \u001b[0m\u001b[1m      Param #\u001b[0m\u001b[1m \u001b[0m┃\n",
       "┡━━━━━━━━━━━━━━━━━━━━━━━━━━━━━━━━━╇━━━━━━━━━━━━━━━━━━━━━━━━╇━━━━━━━━━━━━━━━┩\n",
       "│ efficientnetv2-b2 (\u001b[38;5;33mFunctional\u001b[0m)  │ (\u001b[38;5;45mNone\u001b[0m, \u001b[38;5;34m7\u001b[0m, \u001b[38;5;34m7\u001b[0m, \u001b[38;5;34m1408\u001b[0m)     │     \u001b[38;5;34m8,769,374\u001b[0m │\n",
       "├─────────────────────────────────┼────────────────────────┼───────────────┤\n",
       "│ global_average_pooling2d        │ (\u001b[38;5;45mNone\u001b[0m, \u001b[38;5;34m1408\u001b[0m)           │             \u001b[38;5;34m0\u001b[0m │\n",
       "│ (\u001b[38;5;33mGlobalAveragePooling2D\u001b[0m)        │                        │               │\n",
       "├─────────────────────────────────┼────────────────────────┼───────────────┤\n",
       "│ batch_normalization             │ (\u001b[38;5;45mNone\u001b[0m, \u001b[38;5;34m1408\u001b[0m)           │         \u001b[38;5;34m5,632\u001b[0m │\n",
       "│ (\u001b[38;5;33mBatchNormalization\u001b[0m)            │                        │               │\n",
       "├─────────────────────────────────┼────────────────────────┼───────────────┤\n",
       "│ dense (\u001b[38;5;33mDense\u001b[0m)                   │ (\u001b[38;5;45mNone\u001b[0m, \u001b[38;5;34m1024\u001b[0m)           │     \u001b[38;5;34m1,442,816\u001b[0m │\n",
       "├─────────────────────────────────┼────────────────────────┼───────────────┤\n",
       "│ dropout (\u001b[38;5;33mDropout\u001b[0m)               │ (\u001b[38;5;45mNone\u001b[0m, \u001b[38;5;34m1024\u001b[0m)           │             \u001b[38;5;34m0\u001b[0m │\n",
       "├─────────────────────────────────┼────────────────────────┼───────────────┤\n",
       "│ batch_normalization_1           │ (\u001b[38;5;45mNone\u001b[0m, \u001b[38;5;34m1024\u001b[0m)           │         \u001b[38;5;34m4,096\u001b[0m │\n",
       "│ (\u001b[38;5;33mBatchNormalization\u001b[0m)            │                        │               │\n",
       "├─────────────────────────────────┼────────────────────────┼───────────────┤\n",
       "│ dense_1 (\u001b[38;5;33mDense\u001b[0m)                 │ (\u001b[38;5;45mNone\u001b[0m, \u001b[38;5;34m10\u001b[0m)             │        \u001b[38;5;34m10,250\u001b[0m │\n",
       "└─────────────────────────────────┴────────────────────────┴───────────────┘\n"
      ]
     },
     "metadata": {},
     "output_type": "display_data"
    },
    {
     "data": {
      "text/html": [
       "<pre style=\"white-space:pre;overflow-x:auto;line-height:normal;font-family:Menlo,'DejaVu Sans Mono',consolas,'Courier New',monospace\"><span style=\"font-weight: bold\"> Total params: </span><span style=\"color: #00af00; text-decoration-color: #00af00\">10,232,168</span> (39.03 MB)\n",
       "</pre>\n"
      ],
      "text/plain": [
       "\u001b[1m Total params: \u001b[0m\u001b[38;5;34m10,232,168\u001b[0m (39.03 MB)\n"
      ]
     },
     "metadata": {},
     "output_type": "display_data"
    },
    {
     "data": {
      "text/html": [
       "<pre style=\"white-space:pre;overflow-x:auto;line-height:normal;font-family:Menlo,'DejaVu Sans Mono',consolas,'Courier New',monospace\"><span style=\"font-weight: bold\"> Trainable params: </span><span style=\"color: #00af00; text-decoration-color: #00af00\">1,457,930</span> (5.56 MB)\n",
       "</pre>\n"
      ],
      "text/plain": [
       "\u001b[1m Trainable params: \u001b[0m\u001b[38;5;34m1,457,930\u001b[0m (5.56 MB)\n"
      ]
     },
     "metadata": {},
     "output_type": "display_data"
    },
    {
     "data": {
      "text/html": [
       "<pre style=\"white-space:pre;overflow-x:auto;line-height:normal;font-family:Menlo,'DejaVu Sans Mono',consolas,'Courier New',monospace\"><span style=\"font-weight: bold\"> Non-trainable params: </span><span style=\"color: #00af00; text-decoration-color: #00af00\">8,774,238</span> (33.47 MB)\n",
       "</pre>\n"
      ],
      "text/plain": [
       "\u001b[1m Non-trainable params: \u001b[0m\u001b[38;5;34m8,774,238\u001b[0m (33.47 MB)\n"
      ]
     },
     "metadata": {},
     "output_type": "display_data"
    }
   ],
   "source": [
    "model = Sequential([\n",
    "    Input(shape=(image_height, image_width, 3)),\n",
    "    base,\n",
    "    GlobalAveragePooling2D(),\n",
    "    BatchNormalization(),\n",
    "    Dense(1024, activation='relu', kernel_regularizer=l2(0.005)),\n",
    "    Dropout(0.5),\n",
    "    BatchNormalization(),\n",
    "    Dense(10, activation='softmax')\n",
    "])\n",
    "\n",
    "model.summary()\n",
    "model.compile(optimizer=tf.keras.optimizers.Adam(\n",
    "), loss=tf.keras.losses.SparseCategoricalCrossentropy(), metrics=['accuracy'])"
   ]
  },
  {
   "cell_type": "code",
   "execution_count": 9,
   "metadata": {},
   "outputs": [
    {
     "data": {
      "text/plain": [
       "\"\\nearly_stop = EarlyStopping(monitor='val_loss', patience=4, restore_best_weights=True)\\n\\n\\nclass CustomCallback(tf.keras.callbacks.Callback):\\n\\n    def on_epoch_end(self, epoch, logs=None):\\n\\n        if (logs.get('val_accuracy') > 0.9 and logs.get('val_loss') < 0.5):\\n\\n            print('Congratulation, your model is good enough!')\\n\\n            self.model.stop_training = True\\n\\n        elif (logs.get('accuracy') > logs.get('val_accuracy')):\\n\\n            print('Training stopped because the model is overfitting!')\\n\\n            self.model.stop_training = True\\n\""
      ]
     },
     "execution_count": 9,
     "metadata": {},
     "output_type": "execute_result"
    }
   ],
   "source": [
    "lr_scheduler = ReduceLROnPlateau(monitor='val_loss', factor=0.2, patience=2, min_lr=0.00001)\n",
    "checkpoint = ModelCheckpoint(filepath='Model V2B2.keras', monitor='val_loss', save_best_only=True, mode='min', verbose=1)\n",
    "\n",
    "'''\n",
    "early_stop = EarlyStopping(monitor='val_loss', patience=4, restore_best_weights=True)\n",
    "\n",
    "\n",
    "class CustomCallback(tf.keras.callbacks.Callback):\n",
    "\n",
    "    def on_epoch_end(self, epoch, logs=None):\n",
    "\n",
    "        if (logs.get('val_accuracy') > 0.9 and logs.get('val_loss') < 0.5):\n",
    "\n",
    "            print('Congratulation, your model is good enough!')\n",
    "\n",
    "            self.model.stop_training = True\n",
    "\n",
    "        elif (logs.get('accuracy') > logs.get('val_accuracy')):\n",
    "\n",
    "            print('Training stopped because the model is overfitting!')\n",
    "\n",
    "            self.model.stop_training = True\n",
    "'''"
   ]
  },
  {
   "cell_type": "code",
   "execution_count": 10,
   "metadata": {},
   "outputs": [
    {
     "name": "stdout",
     "output_type": "stream",
     "text": [
      "Epoch 1/20\n",
      "\u001b[1m596/596\u001b[0m \u001b[32m━━━━━━━━━━━━━━━━━━━━\u001b[0m\u001b[37m\u001b[0m \u001b[1m0s\u001b[0m 319ms/step - accuracy: 0.6687 - loss: 5.6328\n",
      "Epoch 1: val_loss improved from inf to 2.12088, saving model to Model V2B2.keras\n",
      "\u001b[1m596/596\u001b[0m \u001b[32m━━━━━━━━━━━━━━━━━━━━\u001b[0m\u001b[37m\u001b[0m \u001b[1m339s\u001b[0m 428ms/step - accuracy: 0.6688 - loss: 5.6305 - val_accuracy: 0.8828 - val_loss: 2.1209 - learning_rate: 0.0010\n",
      "Epoch 2/20\n",
      "\u001b[1m596/596\u001b[0m \u001b[32m━━━━━━━━━━━━━━━━━━━━\u001b[0m\u001b[37m\u001b[0m \u001b[1m0s\u001b[0m 322ms/step - accuracy: 0.7579 - loss: 2.2784\n",
      "Epoch 2: val_loss improved from 2.12088 to 1.55956, saving model to Model V2B2.keras\n",
      "\u001b[1m596/596\u001b[0m \u001b[32m━━━━━━━━━━━━━━━━━━━━\u001b[0m\u001b[37m\u001b[0m \u001b[1m252s\u001b[0m 423ms/step - accuracy: 0.7579 - loss: 2.2781 - val_accuracy: 0.8879 - val_loss: 1.5596 - learning_rate: 0.0010\n",
      "Epoch 3/20\n",
      "\u001b[1m596/596\u001b[0m \u001b[32m━━━━━━━━━━━━━━━━━━━━\u001b[0m\u001b[37m\u001b[0m \u001b[1m0s\u001b[0m 326ms/step - accuracy: 0.7571 - loss: 1.9632\n",
      "Epoch 3: val_loss did not improve from 1.55956\n",
      "\u001b[1m596/596\u001b[0m \u001b[32m━━━━━━━━━━━━━━━━━━━━\u001b[0m\u001b[37m\u001b[0m \u001b[1m253s\u001b[0m 425ms/step - accuracy: 0.7571 - loss: 1.9632 - val_accuracy: 0.8861 - val_loss: 1.5789 - learning_rate: 0.0010\n",
      "Epoch 4/20\n",
      "\u001b[1m596/596\u001b[0m \u001b[32m━━━━━━━━━━━━━━━━━━━━\u001b[0m\u001b[37m\u001b[0m \u001b[1m0s\u001b[0m 326ms/step - accuracy: 0.7655 - loss: 1.9521\n",
      "Epoch 4: val_loss improved from 1.55956 to 1.55508, saving model to Model V2B2.keras\n",
      "\u001b[1m596/596\u001b[0m \u001b[32m━━━━━━━━━━━━━━━━━━━━\u001b[0m\u001b[37m\u001b[0m \u001b[1m255s\u001b[0m 428ms/step - accuracy: 0.7655 - loss: 1.9521 - val_accuracy: 0.8740 - val_loss: 1.5551 - learning_rate: 0.0010\n",
      "Epoch 5/20\n",
      "\u001b[1m596/596\u001b[0m \u001b[32m━━━━━━━━━━━━━━━━━━━━\u001b[0m\u001b[37m\u001b[0m \u001b[1m0s\u001b[0m 326ms/step - accuracy: 0.7701 - loss: 1.9039\n",
      "Epoch 5: val_loss did not improve from 1.55508\n",
      "\u001b[1m596/596\u001b[0m \u001b[32m━━━━━━━━━━━━━━━━━━━━\u001b[0m\u001b[37m\u001b[0m \u001b[1m254s\u001b[0m 426ms/step - accuracy: 0.7701 - loss: 1.9039 - val_accuracy: 0.8808 - val_loss: 1.5686 - learning_rate: 0.0010\n",
      "Epoch 6/20\n",
      "\u001b[1m596/596\u001b[0m \u001b[32m━━━━━━━━━━━━━━━━━━━━\u001b[0m\u001b[37m\u001b[0m \u001b[1m0s\u001b[0m 326ms/step - accuracy: 0.7639 - loss: 1.9472\n",
      "Epoch 6: val_loss did not improve from 1.55508\n",
      "\u001b[1m596/596\u001b[0m \u001b[32m━━━━━━━━━━━━━━━━━━━━\u001b[0m\u001b[37m\u001b[0m \u001b[1m253s\u001b[0m 425ms/step - accuracy: 0.7639 - loss: 1.9472 - val_accuracy: 0.8790 - val_loss: 1.5755 - learning_rate: 0.0010\n",
      "Epoch 7/20\n",
      "\u001b[1m596/596\u001b[0m \u001b[32m━━━━━━━━━━━━━━━━━━━━\u001b[0m\u001b[37m\u001b[0m \u001b[1m0s\u001b[0m 326ms/step - accuracy: 0.8013 - loss: 1.6853\n",
      "Epoch 7: val_loss improved from 1.55508 to 1.03590, saving model to Model V2B2.keras\n",
      "\u001b[1m596/596\u001b[0m \u001b[32m━━━━━━━━━━━━━━━━━━━━\u001b[0m\u001b[37m\u001b[0m \u001b[1m254s\u001b[0m 427ms/step - accuracy: 0.8014 - loss: 1.6849 - val_accuracy: 0.9101 - val_loss: 1.0359 - learning_rate: 2.0000e-04\n",
      "Epoch 8/20\n",
      "\u001b[1m596/596\u001b[0m \u001b[32m━━━━━━━━━━━━━━━━━━━━\u001b[0m\u001b[37m\u001b[0m \u001b[1m0s\u001b[0m 321ms/step - accuracy: 0.8323 - loss: 1.1910\n",
      "Epoch 8: val_loss improved from 1.03590 to 0.83218, saving model to Model V2B2.keras\n",
      "\u001b[1m596/596\u001b[0m \u001b[32m━━━━━━━━━━━━━━━━━━━━\u001b[0m\u001b[37m\u001b[0m \u001b[1m250s\u001b[0m 420ms/step - accuracy: 0.8323 - loss: 1.1909 - val_accuracy: 0.9174 - val_loss: 0.8322 - learning_rate: 2.0000e-04\n",
      "Epoch 9/20\n",
      "\u001b[1m596/596\u001b[0m \u001b[32m━━━━━━━━━━━━━━━━━━━━\u001b[0m\u001b[37m\u001b[0m \u001b[1m0s\u001b[0m 322ms/step - accuracy: 0.8460 - loss: 0.9894\n",
      "Epoch 9: val_loss improved from 0.83218 to 0.75312, saving model to Model V2B2.keras\n",
      "\u001b[1m596/596\u001b[0m \u001b[32m━━━━━━━━━━━━━━━━━━━━\u001b[0m\u001b[37m\u001b[0m \u001b[1m250s\u001b[0m 420ms/step - accuracy: 0.8460 - loss: 0.9893 - val_accuracy: 0.9179 - val_loss: 0.7531 - learning_rate: 2.0000e-04\n",
      "Epoch 10/20\n",
      "\u001b[1m596/596\u001b[0m \u001b[32m━━━━━━━━━━━━━━━━━━━━\u001b[0m\u001b[37m\u001b[0m \u001b[1m0s\u001b[0m 319ms/step - accuracy: 0.8594 - loss: 0.9034\n",
      "Epoch 10: val_loss improved from 0.75312 to 0.72629, saving model to Model V2B2.keras\n",
      "\u001b[1m596/596\u001b[0m \u001b[32m━━━━━━━━━━━━━━━━━━━━\u001b[0m\u001b[37m\u001b[0m \u001b[1m250s\u001b[0m 419ms/step - accuracy: 0.8594 - loss: 0.9033 - val_accuracy: 0.9109 - val_loss: 0.7263 - learning_rate: 2.0000e-04\n",
      "Epoch 11/20\n",
      "\u001b[1m596/596\u001b[0m \u001b[32m━━━━━━━━━━━━━━━━━━━━\u001b[0m\u001b[37m\u001b[0m \u001b[1m0s\u001b[0m 321ms/step - accuracy: 0.8611 - loss: 0.8622\n",
      "Epoch 11: val_loss improved from 0.72629 to 0.71222, saving model to Model V2B2.keras\n",
      "\u001b[1m596/596\u001b[0m \u001b[32m━━━━━━━━━━━━━━━━━━━━\u001b[0m\u001b[37m\u001b[0m \u001b[1m250s\u001b[0m 420ms/step - accuracy: 0.8611 - loss: 0.8622 - val_accuracy: 0.9126 - val_loss: 0.7122 - learning_rate: 2.0000e-04\n",
      "Epoch 12/20\n",
      "\u001b[1m596/596\u001b[0m \u001b[32m━━━━━━━━━━━━━━━━━━━━\u001b[0m\u001b[37m\u001b[0m \u001b[1m0s\u001b[0m 323ms/step - accuracy: 0.8607 - loss: 0.8433\n",
      "Epoch 12: val_loss improved from 0.71222 to 0.70101, saving model to Model V2B2.keras\n",
      "\u001b[1m596/596\u001b[0m \u001b[32m━━━━━━━━━━━━━━━━━━━━\u001b[0m\u001b[37m\u001b[0m \u001b[1m253s\u001b[0m 424ms/step - accuracy: 0.8607 - loss: 0.8433 - val_accuracy: 0.9114 - val_loss: 0.7010 - learning_rate: 2.0000e-04\n",
      "Epoch 13/20\n",
      "\u001b[1m596/596\u001b[0m \u001b[32m━━━━━━━━━━━━━━━━━━━━\u001b[0m\u001b[37m\u001b[0m \u001b[1m0s\u001b[0m 332ms/step - accuracy: 0.8768 - loss: 0.8067\n",
      "Epoch 13: val_loss improved from 0.70101 to 0.69007, saving model to Model V2B2.keras\n",
      "\u001b[1m596/596\u001b[0m \u001b[32m━━━━━━━━━━━━━━━━━━━━\u001b[0m\u001b[37m\u001b[0m \u001b[1m257s\u001b[0m 431ms/step - accuracy: 0.8768 - loss: 0.8066 - val_accuracy: 0.9146 - val_loss: 0.6901 - learning_rate: 2.0000e-04\n",
      "Epoch 14/20\n",
      "\u001b[1m596/596\u001b[0m \u001b[32m━━━━━━━━━━━━━━━━━━━━\u001b[0m\u001b[37m\u001b[0m \u001b[1m0s\u001b[0m 321ms/step - accuracy: 0.8734 - loss: 0.8022\n",
      "Epoch 14: val_loss improved from 0.69007 to 0.68828, saving model to Model V2B2.keras\n",
      "\u001b[1m596/596\u001b[0m \u001b[32m━━━━━━━━━━━━━━━━━━━━\u001b[0m\u001b[37m\u001b[0m \u001b[1m250s\u001b[0m 420ms/step - accuracy: 0.8734 - loss: 0.8021 - val_accuracy: 0.9149 - val_loss: 0.6883 - learning_rate: 2.0000e-04\n",
      "Epoch 15/20\n",
      "\u001b[1m596/596\u001b[0m \u001b[32m━━━━━━━━━━━━━━━━━━━━\u001b[0m\u001b[37m\u001b[0m \u001b[1m0s\u001b[0m 322ms/step - accuracy: 0.8748 - loss: 0.7924\n",
      "Epoch 15: val_loss did not improve from 0.68828\n",
      "\u001b[1m596/596\u001b[0m \u001b[32m━━━━━━━━━━━━━━━━━━━━\u001b[0m\u001b[37m\u001b[0m \u001b[1m250s\u001b[0m 419ms/step - accuracy: 0.8748 - loss: 0.7924 - val_accuracy: 0.9141 - val_loss: 0.6963 - learning_rate: 2.0000e-04\n",
      "Epoch 16/20\n",
      "\u001b[1m596/596\u001b[0m \u001b[32m━━━━━━━━━━━━━━━━━━━━\u001b[0m\u001b[37m\u001b[0m \u001b[1m0s\u001b[0m 321ms/step - accuracy: 0.8707 - loss: 0.8018\n",
      "Epoch 16: val_loss did not improve from 0.68828\n",
      "\u001b[1m596/596\u001b[0m \u001b[32m━━━━━━━━━━━━━━━━━━━━\u001b[0m\u001b[37m\u001b[0m \u001b[1m249s\u001b[0m 418ms/step - accuracy: 0.8707 - loss: 0.8018 - val_accuracy: 0.9162 - val_loss: 0.6958 - learning_rate: 2.0000e-04\n",
      "Epoch 17/20\n",
      "\u001b[1m596/596\u001b[0m \u001b[32m━━━━━━━━━━━━━━━━━━━━\u001b[0m\u001b[37m\u001b[0m \u001b[1m0s\u001b[0m 322ms/step - accuracy: 0.8854 - loss: 0.7518\n",
      "Epoch 17: val_loss improved from 0.68828 to 0.65099, saving model to Model V2B2.keras\n",
      "\u001b[1m596/596\u001b[0m \u001b[32m━━━━━━━━━━━━━━━━━━━━\u001b[0m\u001b[37m\u001b[0m \u001b[1m250s\u001b[0m 420ms/step - accuracy: 0.8854 - loss: 0.7517 - val_accuracy: 0.9245 - val_loss: 0.6510 - learning_rate: 4.0000e-05\n",
      "Epoch 18/20\n",
      "\u001b[1m596/596\u001b[0m \u001b[32m━━━━━━━━━━━━━━━━━━━━\u001b[0m\u001b[37m\u001b[0m \u001b[1m0s\u001b[0m 372ms/step - accuracy: 0.9082 - loss: 0.6759\n",
      "Epoch 18: val_loss improved from 0.65099 to 0.61818, saving model to Model V2B2.keras\n",
      "\u001b[1m596/596\u001b[0m \u001b[32m━━━━━━━━━━━━━━━━━━━━\u001b[0m\u001b[37m\u001b[0m \u001b[1m293s\u001b[0m 492ms/step - accuracy: 0.9083 - loss: 0.6759 - val_accuracy: 0.9265 - val_loss: 0.6182 - learning_rate: 4.0000e-05\n",
      "Epoch 19/20\n",
      "\u001b[1m596/596\u001b[0m \u001b[32m━━━━━━━━━━━━━━━━━━━━\u001b[0m\u001b[37m\u001b[0m \u001b[1m0s\u001b[0m 385ms/step - accuracy: 0.9192 - loss: 0.6306\n",
      "Epoch 19: val_loss improved from 0.61818 to 0.59083, saving model to Model V2B2.keras\n",
      "\u001b[1m596/596\u001b[0m \u001b[32m━━━━━━━━━━━━━━━━━━━━\u001b[0m\u001b[37m\u001b[0m \u001b[1m300s\u001b[0m 504ms/step - accuracy: 0.9192 - loss: 0.6306 - val_accuracy: 0.9253 - val_loss: 0.5908 - learning_rate: 4.0000e-05\n",
      "Epoch 20/20\n",
      "\u001b[1m596/596\u001b[0m \u001b[32m━━━━━━━━━━━━━━━━━━━━\u001b[0m\u001b[37m\u001b[0m \u001b[1m0s\u001b[0m 384ms/step - accuracy: 0.9283 - loss: 0.5723\n",
      "Epoch 20: val_loss improved from 0.59083 to 0.56649, saving model to Model V2B2.keras\n",
      "\u001b[1m596/596\u001b[0m \u001b[32m━━━━━━━━━━━━━━━━━━━━\u001b[0m\u001b[37m\u001b[0m \u001b[1m300s\u001b[0m 503ms/step - accuracy: 0.9283 - loss: 0.5723 - val_accuracy: 0.9255 - val_loss: 0.5665 - learning_rate: 4.0000e-05\n"
     ]
    }
   ],
   "source": [
    "history = model.fit(train_dataset, validation_data=val_dataset, epochs=20, callbacks=[checkpoint, lr_scheduler])"
   ]
  },
  {
   "cell_type": "code",
   "execution_count": 11,
   "metadata": {},
   "outputs": [],
   "source": [
    "def plotGraph(history, string):\n",
    "    plt.plot(history.history[string])\n",
    "    plt.plot(history.history['val_' + string])\n",
    "    plt.xlabel('Epochs')\n",
    "    plt.ylabel(string)\n",
    "    plt.legend([string, 'val_' + string])\n",
    "    plt.show()"
   ]
  },
  {
   "cell_type": "code",
   "execution_count": 12,
   "metadata": {},
   "outputs": [
    {
     "data": {
      "image/png": "[encoded data removed]",
      "text/plain": [
       "<Figure size 640x480 with 1 Axes>"
      ]
     },
     "metadata": {},
     "output_type": "display_data"
    }
   ],
   "source": [
    "plotGraph(history, 'accuracy')"
   ]
  },
  {
   "cell_type": "code",
   "execution_count": 13,
   "metadata": {},
   "outputs": [
    {
     "data": {
      "image/png": "[encoded data removed]",
      "text/plain": [
       "<Figure size 640x480 with 1 Axes>"
      ]
     },
     "metadata": {},
     "output_type": "display_data"
    }
   ],
   "source": [
    "plotGraph(history, 'loss')"
   ]
  },
  {
   "cell_type": "code",
   "execution_count": 14,
   "metadata": {},
   "outputs": [
    {
     "name": "stdout",
     "output_type": "stream",
     "text": [
      "\u001b[1m199/199\u001b[0m \u001b[32m━━━━━━━━━━━━━━━━━━━━\u001b[0m\u001b[37m\u001b[0m \u001b[1m80s\u001b[0m 395ms/step - accuracy: 0.9247 - loss: 0.5841\n",
      "Test Loss : 0.57\n",
      "Test Accuracy : 0.93\n"
     ]
    }
   ],
   "source": [
    "test_loss, test_accuracy = model.evaluate(test_dataset)\n",
    "print(f'Test Loss : {test_loss:.2f}')\n",
    "print(f'Test Accuracy : {test_accuracy:.2f}')"
   ]
  },
  {
   "cell_type": "code",
   "execution_count": 15,
   "metadata": {},
   "outputs": [
    {
     "name": "stderr",
     "output_type": "stream",
     "text": [
      "WARNING:absl:You are saving your model as an HDF5 file via `model.save()` or `keras.saving.save_model(model)`. This file format is considered legacy. We recommend using instead the native Keras format, e.g. `model.save('my_model.keras')` or `keras.saving.save_model(model, 'my_model.keras')`. \n"
     ]
    }
   ],
   "source": [
    "model.save('Model V2B2.h5')"
   ]
  },
  {
   "cell_type": "code",
   "execution_count": 16,
   "metadata": {},
   "outputs": [
    {
     "data": {
      "text/plain": [
       "\"\\nmodel = Sequential([\\n    Input(shape=(224, 224, 3)),\\n    Conv2D(64, (3, 3), activation='relu', kernel_regularizer=tf.keras.regularizers.l2(0.005)),\\n    BatchNormalization(),\\n    MaxPooling2D((2, 2)),\\n    Dropout(0.4),\\n\\n    Conv2D(128, (3, 3), activation='relu', kernel_regularizer=tf.keras.regularizers.l2(0.005)),\\n    BatchNormalization(),\\n    MaxPooling2D((2, 2)),\\n    Dropout(0.4),\\n\\n    GlobalAveragePooling2D(),\\n    Dense(256, activation='relu', kernel_regularizer=tf.keras.regularizers.l2(0.005)),\\n    BatchNormalization(),\\n    Dropout(0.5),\\n    Dense(7, activation='softmax')\\n])\\n\\nmodel.summary()\\nmodel.compile(optimizer=tf.keras.optimizers.Adam(), loss=tf.keras.losses.SparseCategoricalCrossentropy(), metrics=['accuracy'])\\n\""
      ]
     },
     "execution_count": 16,
     "metadata": {},
     "output_type": "execute_result"
    }
   ],
   "source": [
    "'''\n",
    "model = Sequential([\n",
    "    Input(shape=(224, 224, 3)),\n",
    "    Conv2D(64, (3, 3), activation='relu', kernel_regularizer=tf.keras.regularizers.l2(0.005)),\n",
    "    BatchNormalization(),\n",
    "    MaxPooling2D((2, 2)),\n",
    "    Dropout(0.4),\n",
    "\n",
    "    Conv2D(128, (3, 3), activation='relu', kernel_regularizer=tf.keras.regularizers.l2(0.005)),\n",
    "    BatchNormalization(),\n",
    "    MaxPooling2D((2, 2)),\n",
    "    Dropout(0.4),\n",
    "\n",
    "    GlobalAveragePooling2D(),\n",
    "    Dense(256, activation='relu', kernel_regularizer=tf.keras.regularizers.l2(0.005)),\n",
    "    BatchNormalization(),\n",
    "    Dropout(0.5),\n",
    "    Dense(7, activation='softmax')\n",
    "])\n",
    "\n",
    "model.summary()\n",
    "model.compile(optimizer=tf.keras.optimizers.Adam(), loss=tf.keras.losses.SparseCategoricalCrossentropy(), metrics=['accuracy'])\n",
    "'''"
   ]
  },
  {
   "cell_type": "code",
   "execution_count": 17,
   "metadata": {},
   "outputs": [
    {
     "data": {
      "text/plain": [
       "'\\nhistory = model.fit(train_dataset, validation_data=val_dataset, epochs=20, callbacks=[lr_scheduler])\\n'"
      ]
     },
     "execution_count": 17,
     "metadata": {},
     "output_type": "execute_result"
    }
   ],
   "source": [
    "'''\n",
    "history = model.fit(train_dataset, validation_data=val_dataset, epochs=20, callbacks=[lr_scheduler])\n",
    "'''"
   ]
  },
  {
   "cell_type": "code",
   "execution_count": 18,
   "metadata": {},
   "outputs": [
    {
     "data": {
      "text/plain": [
       "\"\\nBest model architecture so far :\\naugmentation = Sequential([\\n    tf.keras.layers.RandomFlip('horizontal_and_vertical'),\\n    tf.keras.layers.RandomRotation(0.2, fill_mode='nearest'),\\n    tf.keras.layers.RandomZoom(0.2, fill_mode='nearest'),\\n    tf.keras.layers.RandomBrightness(factor=0.2),\\n    tf.keras.layers.RandomTranslation(0.2, 0.2, fill_mode='nearest')\\n])\\n\\nbase = EfficientNetV2B2(input_shape=(224, 224, 3), include_top=False, weights='imagenet')\\nbase.trainable = False\\n\\nmodel = Sequential([\\n    Input(shape=(224, 224, 3)),\\n    base,\\n    GlobalAveragePooling2D(),\\n    BatchNormalization(),\\n    Dense(128, activation='relu', kernel_regularizer=l2(0.005)),\\n    Dropout(0.4),\\n    BatchNormalization(),\\n    Dense(7, activation='softmax')\\n])\\nmodel.summary()\\nmodel.compile(optimizer=tf.keras.optimizers.Adam(learning_rate=2.0000e-04), loss=tf.keras.losses.SparseCategoricalCrossentropy(), metrics=['accuracy'])\\n\""
      ]
     },
     "execution_count": 18,
     "metadata": {},
     "output_type": "execute_result"
    }
   ],
   "source": [
    "'''\n",
    "Best model architecture so far :\n",
    "augmentation = Sequential([\n",
    "    tf.keras.layers.RandomFlip('horizontal_and_vertical'),\n",
    "    tf.keras.layers.RandomRotation(0.2, fill_mode='nearest'),\n",
    "    tf.keras.layers.RandomZoom(0.2, fill_mode='nearest'),\n",
    "    tf.keras.layers.RandomBrightness(factor=0.2),\n",
    "    tf.keras.layers.RandomTranslation(0.2, 0.2, fill_mode='nearest')\n",
    "])\n",
    "\n",
    "base = EfficientNetV2B2(input_shape=(224, 224, 3), include_top=False, weights='imagenet')\n",
    "base.trainable = False\n",
    "\n",
    "model = Sequential([\n",
    "    Input(shape=(224, 224, 3)),\n",
    "    base,\n",
    "    GlobalAveragePooling2D(),\n",
    "    BatchNormalization(),\n",
    "    Dense(128, activation='relu', kernel_regularizer=l2(0.005)),\n",
    "    Dropout(0.4),\n",
    "    BatchNormalization(),\n",
    "    Dense(7, activation='softmax')\n",
    "])\n",
    "model.summary()\n",
    "model.compile(optimizer=tf.keras.optimizers.Adam(learning_rate=2.0000e-04), loss=tf.keras.losses.SparseCategoricalCrossentropy(), metrics=['accuracy'])\n",
    "'''"
   ]
  }
 ],
 "metadata": {
  "kernelspec": {
   "display_name": "Python 3",
   "language": "python",
   "name": "python3"
  },
  "language_info": {
   "codemirror_mode": {
    "name": "ipython",
    "version": 3
   },
   "file_extension": ".py",
   "mimetype": "text/x-python",
   "name": "python",
   "nbconvert_exporter": "python",
   "pygments_lexer": "ipython3",
   "version": "3.12.7"
  }
 },
 "nbformat": 4,
 "nbformat_minor": 2
}
